{
 "cells": [
  {
   "cell_type": "markdown",
   "metadata": {},
   "source": [
    "# Hierarchical Rein- forcement Learning Fraud Detection (HRLFD) - an Adapttive approach\n"
   ]
  },
  {
   "cell_type": "markdown",
   "metadata": {},
   "source": [
    "### Overview \n",
    "This project aims to explore a heirarchical aproach to fraud detection . we aim to build a reinforcement model that does not just classify transactions as fraud or not fraud like more traditional models but instead use a Hierarchical reinforcement aproach to examine each transaction deeply as real world data are data are not as straighforward and the traditional binary prediction leads ro more false positive predictions."
   ]
  },
  {
   "cell_type": "code",
   "execution_count": null,
   "metadata": {},
   "outputs": [],
   "source": [
    "# Importining neccesary packages\n"
   ]
  },
  {
   "cell_type": "markdown",
   "metadata": {},
   "source": [
    "### Data Understanding\n",
    "To understand the data, we'll load the provided dataset and explore its structure, missing values, and summary statistics.\n"
   ]
  },
  {
   "cell_type": "markdown",
   "metadata": {},
   "source": []
  }
 ],
 "metadata": {
  "language_info": {
   "name": "python"
  }
 },
 "nbformat": 4,
 "nbformat_minor": 2
}
